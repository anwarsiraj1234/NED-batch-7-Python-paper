{
 "cells": [
  {
   "cell_type": "code",
   "execution_count": 1,
   "id": "8af2014b",
   "metadata": {},
   "outputs": [],
   "source": [
    "# Full Name:  \n",
    "# Contact No:\n",
    "# Program Name:"
   ]
  },
  {
   "cell_type": "markdown",
   "id": "dddb1d49",
   "metadata": {},
   "source": [
    "# Part 1: Attempt any 8 Question"
   ]
  },
  {
   "cell_type": "markdown",
   "id": "c75ab677",
   "metadata": {},
   "source": [
    "Question 1: \n",
    "Define two variables, `num1` and `num2`, with values 40 and 52 respectively.Write a Python expression to calculate the sum, difference, product, and quotient of these two variables."
   ]
  },
  {
   "cell_type": "markdown",
   "id": "8b493e32",
   "metadata": {},
   "source": [
    "Question 2: \n",
    "Write a Python script that checks if a number entered in a variable `num` by a user is positive, negative, or zero,or check if a user enter any invalid character and prints an appropriate message for each case."
   ]
  },
  {
   "cell_type": "markdown",
   "id": "17e2e808",
   "metadata": {},
   "source": [
    "Question 3:Write a Python script using a for loop to print all the even numbers between 1 and 20 (inclusive)."
   ]
  },
  {
   "cell_type": "markdown",
   "id": "5c6d13ad",
   "metadata": {},
   "source": [
    "Question 4:Create two string variables `first_name` and `last_name`. Write a Python script to concatenate these two strings with a space in between and print the full name"
   ]
  },
  {
   "cell_type": "markdown",
   "id": "4014ba3f",
   "metadata": {},
   "source": [
    "Question 5: Write a Python script to calculate the area of a rectangle. The length and width of the rectangle should be stored in variables `length` and `width`."
   ]
  },
  {
   "cell_type": "markdown",
   "id": "571048cb",
   "metadata": {},
   "source": [
    "Question 6:Write a program to check if a string enter by a user is a palindrome or not."
   ]
  },
  {
   "cell_type": "markdown",
   "id": "9248bc20",
   "metadata": {},
   "source": [
    "Question 7: Write a program to check if a number enter by user is prime. "
   ]
  },
  {
   "cell_type": "markdown",
   "id": "e1e5801e",
   "metadata": {},
   "source": [
    "Question 8: Write a Python script that uses a for loop to iterate through numbers from 1 to 15. For each number, print \"Fizz\" if the number is divisible by 3, \"Buzz\" if it is divisible by 5, and \"FizzBuzz\" if it is divisible by both 3 and 5."
   ]
  },
  {
   "cell_type": "markdown",
   "id": "7601671a",
   "metadata": {},
   "source": [
    "Question 9 : Write a Python script that asks the user for their name and age, stores them in variables, and then prints a message saying \"Hello [name], you are [age] years old.\""
   ]
  },
  {
   "cell_type": "markdown",
   "id": "41284e6f",
   "metadata": {},
   "source": [
    "# Part 2: Find error in a code and find the output "
   ]
  },
  {
   "cell_type": "code",
   "execution_count": 2,
   "id": "30970d1b",
   "metadata": {},
   "outputs": [],
   "source": [
    "# student_names = ['Luis', 'Divya' 'Maria', 'Mimi')\n",
    "# student_names.append('Arnold)"
   ]
  },
  {
   "cell_type": "code",
   "execution_count": 3,
   "id": "f711c2d8",
   "metadata": {},
   "outputs": [],
   "source": [
    "# find the sum of element in a list\n",
    "# nums = (3, 8, -4, 22, 0,)\n",
    "\n",
    "#for num in nums\n",
    "#num = num--1"
   ]
  },
  {
   "cell_type": "code",
   "execution_count": 4,
   "id": "85983334",
   "metadata": {},
   "outputs": [],
   "source": [
    "# ages = {\n",
    "# 'Ahmed': 21,\n",
    "# 'Faraz: 21\n",
    "# Sarah': 41\n",
    "# }\n",
    "\n",
    "# print('Faraz is {ages} years old.'.format(ages : 24))"
   ]
  },
  {
   "cell_type": "code",
   "execution_count": 5,
   "id": "9ce3605b",
   "metadata": {},
   "outputs": [],
   "source": [
    "# Define Mutable and immutable data types with example.\n",
    "# write a syntax of for loop"
   ]
  }
 ],
 "metadata": {
  "kernelspec": {
   "display_name": "Python 3 (ipykernel)",
   "language": "python",
   "name": "python3"
  },
  "language_info": {
   "codemirror_mode": {
    "name": "ipython",
    "version": 3
   },
   "file_extension": ".py",
   "mimetype": "text/x-python",
   "name": "python",
   "nbconvert_exporter": "python",
   "pygments_lexer": "ipython3",
   "version": "3.11.5"
  }
 },
 "nbformat": 4,
 "nbformat_minor": 5
}
